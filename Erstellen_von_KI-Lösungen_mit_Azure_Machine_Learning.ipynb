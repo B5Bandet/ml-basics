{
 "metadata": {
  "language_info": {
   "codemirror_mode": {
    "name": "ipython",
    "version": 3
   },
   "file_extension": ".py",
   "mimetype": "text/x-python",
   "name": "python",
   "nbconvert_exporter": "python",
   "pygments_lexer": "ipython3",
   "version": 3
  },
  "orig_nbformat": 2
 },
 "nbformat": 4,
 "nbformat_minor": 2,
 "cells": [
  {
   "source": [
    "# Erstellen von KI-Lösungen mit Azure Machine Learning"
   ],
   "cell_type": "markdown",
   "metadata": {}
  },
  {
   "source": [
    "## 1 Einführung in Azure Machine Learning\n",
    "\n",
    "Lernziele:\n",
    "- Bereitstellen eines Azure Machine Learning-Arbeitsbereichs\n",
    "- Verwenden von Tools und Benutzeroberflächen für die Arbeit mit Azure Machine Learning\n",
    "- Ausführen von auf Code basierenden Experimenten in einem Azure Machine Learning-Arbeitsbereich\n",
    "\n",
    "### Arbeitsbereiche für Machine Learning-Ressourcen\n",
    "\n",
    "- Computeziele für die Entwicklung, das Training und die Bereitstellung\n",
    "- Daten für Experimente und Modelltraining\n",
    "- Notebooks mit freigegebenem Code und Dokumentation\n",
    "- Experimente, einschließlich Ausführungsverlauf mit protokollierten Metriken und Ausgaben\n",
    "- Pipelines, die orchestrierte Prozesse mit mehreren Schritten definieren\n",
    "- Modelle, die Sie trainiert haben\n",
    "\n",
    "![image](Bilder/01-02-workspace.jpg)\n",
    "\n",
    "Folgende Azure-Ressourcen werden gemeinsam mit einem Arbeitsbereich erstellt:\n",
    "\n",
    "- Ein Speicherkonto, das zum Speichern von Dateien, die vom Arbeitsbereich genutzt werden, und der Daten für Experimente und Modelltraining verwendet wird\n",
    "- Eine Application Insights-Instanz, die zum Überwachen der Vorhersagedienste im Arbeitsbereich verwendet wird\n",
    "- Eine Azure Key Vault-Instanz, die zum Verwalten von Geheimnissen wie Authentifizierungsschlüsseln und Anmeldeinformationen für den Arbeitsbereich verwendet wird\n",
    "- VMs (virtuelle Computer) und die zugehörigen virtuellen Hardwareressourcen, die zur Bereitstellung für die Notebookentwicklung im Arbeitsbereich verwendet werden.\n",
    "- Eine Containerregistrierung, die zum Verwalten von Containern für bereitgestellte Modelle verwendet wird"
   ],
   "cell_type": "markdown",
   "metadata": {}
  },
  {
   "cell_type": "code",
   "execution_count": null,
   "metadata": {},
   "outputs": [],
   "source": [
    "# Erstellen eines Arbeitsbereichs über die Python SDK und CLI-Erweiterung\n",
    "from azureml.core import Workspace\n",
    "    \n",
    "    ws = Workspace.create(name='aml-workspace', \n",
    "                      subscription_id='123456-abc-123...',\n",
    "                      resource_group='aml-resources',\n",
    "                      create_resource_group=True,\n",
    "                      location='eastus',\n",
    "                      sku='enterprise'\n",
    "                     )\n",
    "\n",
    "az ml workspace create -w 'aml-workspace' -g 'aml-resources'"
   ]
  },
  {
   "source": [
    "### Tools und Benutzeroberflächen von Azure Machine Learning"
   ],
   "cell_type": "markdown",
   "metadata": {}
  },
  {
   "cell_type": "code",
   "execution_count": null,
   "metadata": {},
   "outputs": [],
   "source": [
    "# Herstellen einer Verbindung mit einem Arbeitsbereich über config.json\n",
    "\n",
    "#json\n",
    "{\n",
    "    \"subscription_id\": \"1234567-abcde-890-fgh...\",\n",
    "    \"resource_group\": \"aml-resources\",\n",
    "    \"workspace_name\": \"aml-workspace\"\n",
    "}\n",
    "\n",
    "#python\n",
    "from azureml.core import Workspace\n",
    "\n",
    "ws = Workspace.from_config()\n",
    "\n",
    "#oder\n",
    "\n",
    "ws = Workspace.get(name='aml-workspace',\n",
    "                   subscription_id='1234567-abcde-890-fgh...',\n",
    "                   resource_group='aml-resources') "
   ]
  },
  {
   "source": [
    "### Azure Machine Learning-Experimente"
   ],
   "cell_type": "markdown",
   "metadata": {}
  },
  {
   "cell_type": "code",
   "execution_count": null,
   "metadata": {},
   "outputs": [],
   "source": [
    "# Ausführungskontext\n",
    "from azureml.core import Experiment\n",
    "\n",
    "# create an experiment variable\n",
    "experiment = Experiment(workspace = ws, name = \"my-experiment\")\n",
    "\n",
    "# start the experiment\n",
    "run = experiment.start_logging()\n",
    "\n",
    "# Log the row count examplelog\n",
    "run.log('observations', row_count)\n",
    "\n",
    "# end the experiment\n",
    "run.complete()"
   ]
  },
  {
   "cell_type": "code",
   "execution_count": null,
   "metadata": {},
   "outputs": [],
   "source": [
    "# Augabe des Logs\n",
    "\n",
    "# als print\n",
    "from azureml.widgets import RunDetails\n",
    "RunDetails(run).show()\n",
    "\n",
    "# als json\n",
    "import json\n",
    "metrics = run.get_metrics()\n",
    "print(json.dumps(metrics, indent=2))\n",
    "\n",
    "# direkt in eigenes file in Output-Ordner\n",
    "run.upload_file(name='outputs/sample.csv', path_or_stream='./sample.csv')\n"
   ]
  },
  {
   "cell_type": "code",
   "execution_count": null,
   "metadata": {},
   "outputs": [],
   "source": [
    "## 2 Trainieren eines Machine Learning Modells mit Azure ML\n",
    "\n",
    "Lernziele:\n",
    "- Verwenden eines Estimators zum Ausführen eines Modelltrainingsskripts als Azure Machine Learning-Experiment\n",
    "- Erstellen von wiederverwendbaren, parametrisierten Trainingsskripts\n",
    "- Registrieren von Modellen, einschließlich Metadaten wie Leistungsmetriken\n",
    "\n",
    "für\n",
    "\n",
    "- Erstellen Sie wiederverwendbare Trainingsskripts für mehrere Computeumgebungen.\n",
    "- Protokollieren Sie Modellleistungsmetriken während der Trainings-und Bewertungsprozesse.\n",
    "- Verfolgen Sie Modellversionen."
   ]
  },
  {
   "source": [
    "### Run a training script\n",
    "\n",
    "Experiment notmalerweise innerhalb eines separaten Skripts geschrieben, dass dann nochmal über **RunConfiguration** und **ScriptRunConfig** ausgeführt wird."
   ],
   "cell_type": "markdown",
   "metadata": {}
  },
  {
   "cell_type": "code",
   "execution_count": null,
   "metadata": {},
   "outputs": [],
   "source": [
    "from azureml.core import Experiment, RunConfiguration, ScriptRunConfig\n",
    "\n",
    "# create a new RunConfig object\n",
    "experiment_run_config = RunConfiguration()\n",
    "\n",
    "# Create a script config\n",
    "script_config = ScriptRunConfig(source_directory=experiment_folder, \n",
    "                      script='experiment.py',\n",
    "                      run_config=experiment_run_config) \n",
    "\n",
    "# submit the experiment\n",
    "experiment = Experiment(workspace = ws, name = 'my-experiment')\n",
    "run = experiment.submit(config=script_config)\n",
    "run.wait_for_completion(show_output=True)"
   ]
  },
  {
   "cell_type": "code",
   "execution_count": null,
   "metadata": {},
   "outputs": [],
   "source": [
    "# oder mit festlegen einer eigenen environment\n",
    "from azureml.core import Experiment, ScriptRunConfig, Environment\n",
    "from azureml.core.conda_dependencies import CondaDependencies\n",
    "\n",
    "# Create a Python environment for the experiment\n",
    "sklearn_env = Environment(\"sklearn-env\")\n",
    "\n",
    "# Ensure the required packages are installed\n",
    "packages = CondaDependencies.create(conda_packages=['scikit-learn','pip'],\n",
    "                                    pip_packages=['azureml-defaults'])\n",
    "sklearn_env.python.conda_dependencies = packages\n",
    "\n",
    "# Create a script config\n",
    "script_config = ScriptRunConfig(source_directory='training_folder',\n",
    "                                script='training.py',\n",
    "                                environment=sklearn_env) \n",
    "\n",
    "# \n",
    "experiment = Experiment(workspace=ws, name='training-experiment')\n",
    "run = experiment.submit(config=script_config)\n",
    "run.wait_for_completion()"
   ]
  },
  {
   "cell_type": "code",
   "execution_count": null,
   "metadata": {},
   "outputs": [],
   "source": [
    "### Verwenden von Skriptparametern"
   ]
  },
  {
   "cell_type": "code",
   "execution_count": null,
   "metadata": {},
   "outputs": [],
   "source": [
    "## im Trainingsscript einfügen. reg kann danach als normale Variable weiterverwendet werden\n",
    "\n",
    "import argparse\n",
    "# Set regularization hyperparameter\n",
    "parser = argparse.ArgumentParser()\n",
    "parser.add_argument('--reg_rate', type=float, dest='reg', default=0.01)\n",
    "args = parser.parse_args()\n",
    "reg = args.reg\n",
    "\n",
    "\n",
    "## in der Ausfürhung vor dem Submitten noch einen estimater erstellen und in die config packen\n",
    "## Nennung von reg als script_params\n",
    "from azureml.train.sklearn import SKLearn\n",
    "from azureml.core import Experiment\n",
    "\n",
    "# Create an estimator\n",
    "estimator = SKLearn(source_directory='experiment_folder',\n",
    "                    entry_script='training_script.py',\n",
    "                    script_params = {'--reg_rate': 0.1},\n",
    "                    compute_target='local'\n",
    "                    )\n",
    "\n",
    "# Submit the experiment\n",
    "experiment = Experiment(workspace = ws, name = 'training_experiment')\n",
    "run = experiment.submit(config=estimator)"
   ]
  },
  {
   "source": [
    "### Modell wird registriert\n",
    "\n",
    "Skripte speichern die Trainierten modelle standarsmäßig im Output-Ordner. Von dort aus können sie auch heruntergeladen werden.\n",
    "\n",
    "Mithilfe der Modellregistrierung können Sie mehrere Versionen eines Modells nachverfolgen und Modelle für Rückschlüsse (Vorhersagen von Bezeichnungswerten aus neuen Daten) abrufen. Wenn Sie ein Modell registrieren, können Sie einen Namen, eine Beschreibung, Tags, ein Framework (wie Scikit-Learn oder PyTorch), Frameworkversion, benutzerdefinierte Eigenschaften und andere nützliche Metadaten angeben. Wenn Sie ein Modell mit dem gleichen Namen wie ein vorhandenes Modell registrieren, wird automatisch eine neue Version des Modells erstellt, beginnend mit 1 und aufsteigend in Einheiten von 1."
   ],
   "cell_type": "markdown",
   "metadata": {}
  },
  {
   "cell_type": "code",
   "execution_count": null,
   "metadata": {},
   "outputs": [],
   "source": [
    "# Download a named file\n",
    "run.download_file(name='outputs/model.pkl', output_file_path='model.pkl')\n",
    "\n",
    "# Registrierung über Register Methode des Modell-Objekts\n",
    "from azureml.core import Model\n",
    "\n",
    "model = Model.register(workspace=ws,\n",
    "                       model_name='classification_model',\n",
    "                       model_path='model.pkl', # local path\n",
    "                       description='A classification model',\n",
    "                       tags={'dept': 'sales'},\n",
    "                       model_framework=Model.Framework.SCIKITLEARN,\n",
    "                       model_framework_version='0.20.3')\n",
    "\n",
    "# über Run-Methode\n",
    "run.register_model( model_name='classification_model',\n",
    "                    model_path='outputs/model.pkl', # run outputs path\n",
    "                    description='A classification model',\n",
    "                    tags={'dept': 'sales'},\n",
    "                    model_framework=Model.Framework.SCIKITLEARN,\n",
    "                    model_framework_version='0.20.3')"
   ]
  },
  {
   "cell_type": "code",
   "execution_count": null,
   "metadata": {},
   "outputs": [],
   "source": [
    "## 3 Work with Data in Azure ML"
   ]
  },
  {
   "cell_type": "code",
   "execution_count": null,
   "metadata": {},
   "outputs": [],
   "source": [
    "## 4 Work with Compute in Azure ML"
   ]
  },
  {
   "cell_type": "code",
   "execution_count": null,
   "metadata": {},
   "outputs": [],
   "source": [
    "## 5 Orchestrate machine learning with pipelines"
   ]
  },
  {
   "cell_type": "code",
   "execution_count": null,
   "metadata": {},
   "outputs": [],
   "source": [
    "## 6 Bereitstellen von Machine Learning Modellen mit Azure ML"
   ]
  },
  {
   "cell_type": "code",
   "execution_count": null,
   "metadata": {},
   "outputs": [],
   "source": [
    "## 7 Delpoy batch inference pipelines with Azure ML"
   ]
  },
  {
   "cell_type": "code",
   "execution_count": null,
   "metadata": {},
   "outputs": [],
   "source": [
    "## 8 Tune hyperparameters with Azure ML"
   ]
  },
  {
   "cell_type": "code",
   "execution_count": null,
   "metadata": {},
   "outputs": [],
   "source": [
    "## 9 Automatisieren der ML-Modellauswahl mit Azure ML"
   ]
  },
  {
   "cell_type": "code",
   "execution_count": null,
   "metadata": {},
   "outputs": [],
   "source": [
    "## 10 Explore differential privacy"
   ]
  },
  {
   "cell_type": "code",
   "execution_count": null,
   "metadata": {},
   "outputs": [],
   "source": [
    "## 11 Explain machine leraning models with Azure ML"
   ]
  },
  {
   "cell_type": "code",
   "execution_count": null,
   "metadata": {},
   "outputs": [],
   "source": [
    "## 12 Detect and mitigate unfaireness in models with Azure ML"
   ]
  },
  {
   "cell_type": "code",
   "execution_count": null,
   "metadata": {},
   "outputs": [],
   "source": [
    "## 13 Monitor models with Azure ML"
   ]
  },
  {
   "cell_type": "code",
   "execution_count": null,
   "metadata": {},
   "outputs": [],
   "source": [
    "## 14 Monitor data drift with Azure ML"
   ]
  }
 ]
}